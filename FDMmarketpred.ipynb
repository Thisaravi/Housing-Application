{
 "cells": [
  {
   "cell_type": "code",
   "execution_count": 1,
   "id": "e64dbb4c-5e4c-43d4-a7fd-d9f44baaed94",
   "metadata": {},
   "outputs": [],
   "source": [
    "import pandas as pd\n",
    "from sklearn.model_selection import train_test_split\n",
    "from sklearn.ensemble import RandomForestClassifier\n",
    "from sklearn.linear_model import LogisticRegression\n",
    "from sklearn.neighbors import KNeighborsClassifier\n",
    "from sklearn.svm import SVC\n",
    "from sklearn.compose import ColumnTransformer\n",
    "from sklearn.preprocessing import OneHotEncoder, StandardScaler\n",
    "from sklearn.pipeline import Pipeline\n",
    "from sklearn.metrics import accuracy_score\n",
    "import joblib\n"
   ]
  },
  {
   "cell_type": "code",
   "execution_count": 3,
   "id": "7f581ae3-2214-4910-b03c-74295da7feec",
   "metadata": {},
   "outputs": [],
   "source": [
    "data=pd.read_csv(\"C:\\\\Users\\\\admin\\\\Desktop\\\\housing.csv\")"
   ]
  },
  {
   "cell_type": "code",
   "execution_count": 5,
   "id": "37686d20-6e40-4d8f-82ff-922390c1998c",
   "metadata": {},
   "outputs": [
    {
     "data": {
      "text/html": [
       "<div>\n",
       "<style scoped>\n",
       "    .dataframe tbody tr th:only-of-type {\n",
       "        vertical-align: middle;\n",
       "    }\n",
       "\n",
       "    .dataframe tbody tr th {\n",
       "        vertical-align: top;\n",
       "    }\n",
       "\n",
       "    .dataframe thead th {\n",
       "        text-align: right;\n",
       "    }\n",
       "</style>\n",
       "<table border=\"1\" class=\"dataframe\">\n",
       "  <thead>\n",
       "    <tr style=\"text-align: right;\">\n",
       "      <th></th>\n",
       "      <th>id</th>\n",
       "      <th>url</th>\n",
       "      <th>region</th>\n",
       "      <th>region_url</th>\n",
       "      <th>price</th>\n",
       "      <th>type</th>\n",
       "      <th>sqfeet</th>\n",
       "      <th>beds</th>\n",
       "      <th>baths</th>\n",
       "      <th>cats_allowed</th>\n",
       "      <th>...</th>\n",
       "      <th>wheelchair_access</th>\n",
       "      <th>electric_vehicle_charge</th>\n",
       "      <th>comes_furnished</th>\n",
       "      <th>laundry_options</th>\n",
       "      <th>parking_options</th>\n",
       "      <th>image_url</th>\n",
       "      <th>description</th>\n",
       "      <th>lat</th>\n",
       "      <th>long</th>\n",
       "      <th>state</th>\n",
       "    </tr>\n",
       "  </thead>\n",
       "  <tbody>\n",
       "    <tr>\n",
       "      <th>0</th>\n",
       "      <td>7049044568</td>\n",
       "      <td>https://reno.craigslist.org/apa/d/reno-beautif...</td>\n",
       "      <td>reno / tahoe</td>\n",
       "      <td>https://reno.craigslist.org</td>\n",
       "      <td>1148</td>\n",
       "      <td>apartment</td>\n",
       "      <td>1078</td>\n",
       "      <td>3</td>\n",
       "      <td>2.0</td>\n",
       "      <td>1</td>\n",
       "      <td>...</td>\n",
       "      <td>0</td>\n",
       "      <td>0</td>\n",
       "      <td>0</td>\n",
       "      <td>w/d in unit</td>\n",
       "      <td>carport</td>\n",
       "      <td>https://images.craigslist.org/01616_daghmBUvTC...</td>\n",
       "      <td>Ridgeview by Vintage is where you will find al...</td>\n",
       "      <td>39.5483</td>\n",
       "      <td>-119.796</td>\n",
       "      <td>ca</td>\n",
       "    </tr>\n",
       "    <tr>\n",
       "      <th>1</th>\n",
       "      <td>7049047186</td>\n",
       "      <td>https://reno.craigslist.org/apa/d/reno-reduced...</td>\n",
       "      <td>reno / tahoe</td>\n",
       "      <td>https://reno.craigslist.org</td>\n",
       "      <td>1200</td>\n",
       "      <td>condo</td>\n",
       "      <td>1001</td>\n",
       "      <td>2</td>\n",
       "      <td>2.0</td>\n",
       "      <td>0</td>\n",
       "      <td>...</td>\n",
       "      <td>0</td>\n",
       "      <td>0</td>\n",
       "      <td>0</td>\n",
       "      <td>w/d hookups</td>\n",
       "      <td>carport</td>\n",
       "      <td>https://images.craigslist.org/00V0V_5va0MkgO9q...</td>\n",
       "      <td>Conveniently located in the middle town of Ren...</td>\n",
       "      <td>39.5026</td>\n",
       "      <td>-119.789</td>\n",
       "      <td>ca</td>\n",
       "    </tr>\n",
       "    <tr>\n",
       "      <th>2</th>\n",
       "      <td>7043634882</td>\n",
       "      <td>https://reno.craigslist.org/apa/d/sparks-state...</td>\n",
       "      <td>reno / tahoe</td>\n",
       "      <td>https://reno.craigslist.org</td>\n",
       "      <td>1813</td>\n",
       "      <td>apartment</td>\n",
       "      <td>1683</td>\n",
       "      <td>2</td>\n",
       "      <td>2.0</td>\n",
       "      <td>1</td>\n",
       "      <td>...</td>\n",
       "      <td>0</td>\n",
       "      <td>0</td>\n",
       "      <td>0</td>\n",
       "      <td>w/d in unit</td>\n",
       "      <td>attached garage</td>\n",
       "      <td>https://images.craigslist.org/00t0t_erYqC6LgB8...</td>\n",
       "      <td>2BD | 2BA | 1683SQFTDiscover exceptional servi...</td>\n",
       "      <td>39.6269</td>\n",
       "      <td>-119.708</td>\n",
       "      <td>ca</td>\n",
       "    </tr>\n",
       "    <tr>\n",
       "      <th>3</th>\n",
       "      <td>7049045324</td>\n",
       "      <td>https://reno.craigslist.org/apa/d/reno-1x1-fir...</td>\n",
       "      <td>reno / tahoe</td>\n",
       "      <td>https://reno.craigslist.org</td>\n",
       "      <td>1095</td>\n",
       "      <td>apartment</td>\n",
       "      <td>708</td>\n",
       "      <td>1</td>\n",
       "      <td>1.0</td>\n",
       "      <td>1</td>\n",
       "      <td>...</td>\n",
       "      <td>0</td>\n",
       "      <td>0</td>\n",
       "      <td>0</td>\n",
       "      <td>w/d in unit</td>\n",
       "      <td>carport</td>\n",
       "      <td>https://images.craigslist.org/00303_3HSJz75zlI...</td>\n",
       "      <td>MOVE IN SPECIAL FREE WASHER/DRYER WITH 6 OR 12...</td>\n",
       "      <td>39.4477</td>\n",
       "      <td>-119.771</td>\n",
       "      <td>ca</td>\n",
       "    </tr>\n",
       "    <tr>\n",
       "      <th>4</th>\n",
       "      <td>7049043759</td>\n",
       "      <td>https://reno.craigslist.org/apa/d/reno-no-long...</td>\n",
       "      <td>reno / tahoe</td>\n",
       "      <td>https://reno.craigslist.org</td>\n",
       "      <td>289</td>\n",
       "      <td>apartment</td>\n",
       "      <td>250</td>\n",
       "      <td>0</td>\n",
       "      <td>1.0</td>\n",
       "      <td>1</td>\n",
       "      <td>...</td>\n",
       "      <td>1</td>\n",
       "      <td>0</td>\n",
       "      <td>1</td>\n",
       "      <td>laundry on site</td>\n",
       "      <td>NaN</td>\n",
       "      <td>https://images.craigslist.org/01616_fALAWFV8zQ...</td>\n",
       "      <td>Move In Today: Reno Low-Cost, Clean &amp; Furnishe...</td>\n",
       "      <td>39.5357</td>\n",
       "      <td>-119.805</td>\n",
       "      <td>ca</td>\n",
       "    </tr>\n",
       "  </tbody>\n",
       "</table>\n",
       "<p>5 rows × 22 columns</p>\n",
       "</div>"
      ],
      "text/plain": [
       "           id                                                url  \\\n",
       "0  7049044568  https://reno.craigslist.org/apa/d/reno-beautif...   \n",
       "1  7049047186  https://reno.craigslist.org/apa/d/reno-reduced...   \n",
       "2  7043634882  https://reno.craigslist.org/apa/d/sparks-state...   \n",
       "3  7049045324  https://reno.craigslist.org/apa/d/reno-1x1-fir...   \n",
       "4  7049043759  https://reno.craigslist.org/apa/d/reno-no-long...   \n",
       "\n",
       "         region                   region_url  price       type  sqfeet  beds  \\\n",
       "0  reno / tahoe  https://reno.craigslist.org   1148  apartment    1078     3   \n",
       "1  reno / tahoe  https://reno.craigslist.org   1200      condo    1001     2   \n",
       "2  reno / tahoe  https://reno.craigslist.org   1813  apartment    1683     2   \n",
       "3  reno / tahoe  https://reno.craigslist.org   1095  apartment     708     1   \n",
       "4  reno / tahoe  https://reno.craigslist.org    289  apartment     250     0   \n",
       "\n",
       "   baths  cats_allowed  ...  wheelchair_access  electric_vehicle_charge  \\\n",
       "0    2.0             1  ...                  0                        0   \n",
       "1    2.0             0  ...                  0                        0   \n",
       "2    2.0             1  ...                  0                        0   \n",
       "3    1.0             1  ...                  0                        0   \n",
       "4    1.0             1  ...                  1                        0   \n",
       "\n",
       "   comes_furnished  laundry_options  parking_options  \\\n",
       "0                0      w/d in unit          carport   \n",
       "1                0      w/d hookups          carport   \n",
       "2                0      w/d in unit  attached garage   \n",
       "3                0      w/d in unit          carport   \n",
       "4                1  laundry on site              NaN   \n",
       "\n",
       "                                           image_url  \\\n",
       "0  https://images.craigslist.org/01616_daghmBUvTC...   \n",
       "1  https://images.craigslist.org/00V0V_5va0MkgO9q...   \n",
       "2  https://images.craigslist.org/00t0t_erYqC6LgB8...   \n",
       "3  https://images.craigslist.org/00303_3HSJz75zlI...   \n",
       "4  https://images.craigslist.org/01616_fALAWFV8zQ...   \n",
       "\n",
       "                                         description      lat     long  state  \n",
       "0  Ridgeview by Vintage is where you will find al...  39.5483 -119.796     ca  \n",
       "1  Conveniently located in the middle town of Ren...  39.5026 -119.789     ca  \n",
       "2  2BD | 2BA | 1683SQFTDiscover exceptional servi...  39.6269 -119.708     ca  \n",
       "3  MOVE IN SPECIAL FREE WASHER/DRYER WITH 6 OR 12...  39.4477 -119.771     ca  \n",
       "4  Move In Today: Reno Low-Cost, Clean & Furnishe...  39.5357 -119.805     ca  \n",
       "\n",
       "[5 rows x 22 columns]"
      ]
     },
     "execution_count": 5,
     "metadata": {},
     "output_type": "execute_result"
    }
   ],
   "source": [
    "data.head()"
   ]
  },
  {
   "cell_type": "code",
   "execution_count": 7,
   "id": "7da87f9a-26a1-404e-920f-21be93edaa37",
   "metadata": {},
   "outputs": [
    {
     "name": "stdout",
     "output_type": "stream",
     "text": [
      "id                              0\n",
      "url                             0\n",
      "region                          0\n",
      "region_url                      0\n",
      "price                           0\n",
      "type                            0\n",
      "sqfeet                          0\n",
      "beds                            0\n",
      "baths                           0\n",
      "cats_allowed                    0\n",
      "dogs_allowed                    0\n",
      "smoking_allowed                 0\n",
      "wheelchair_access               0\n",
      "electric_vehicle_charge         0\n",
      "comes_furnished                 0\n",
      "laundry_options             79026\n",
      "parking_options            140687\n",
      "image_url                       0\n",
      "description                     2\n",
      "lat                          1918\n",
      "long                         1918\n",
      "state                           0\n",
      "dtype: int64\n"
     ]
    }
   ],
   "source": [
    "print(data.isnull().sum())\n"
   ]
  },
  {
   "cell_type": "code",
   "execution_count": 9,
   "id": "41636818-7784-411f-a0b7-8bec6271ef8e",
   "metadata": {},
   "outputs": [],
   "source": [
    "data.dropna(inplace=True)\n"
   ]
  },
  {
   "cell_type": "code",
   "execution_count": 11,
   "id": "8f1c8d6c-9d5b-4e0c-9281-69dc348a9cf9",
   "metadata": {},
   "outputs": [
    {
     "name": "stdout",
     "output_type": "stream",
     "text": [
      "id                         0\n",
      "url                        0\n",
      "region                     0\n",
      "region_url                 0\n",
      "price                      0\n",
      "type                       0\n",
      "sqfeet                     0\n",
      "beds                       0\n",
      "baths                      0\n",
      "cats_allowed               0\n",
      "dogs_allowed               0\n",
      "smoking_allowed            0\n",
      "wheelchair_access          0\n",
      "electric_vehicle_charge    0\n",
      "comes_furnished            0\n",
      "laundry_options            0\n",
      "parking_options            0\n",
      "image_url                  0\n",
      "description                0\n",
      "lat                        0\n",
      "long                       0\n",
      "state                      0\n",
      "dtype: int64\n"
     ]
    }
   ],
   "source": [
    "print(data.isnull().sum())"
   ]
  },
  {
   "cell_type": "code",
   "execution_count": 13,
   "id": "a1b17a6e-4234-4a0a-9996-54cc34ba30bb",
   "metadata": {},
   "outputs": [],
   "source": [
    "def categorize_segment(price):\n",
    "    if price > 3000:\n",
    "        return 'Luxury'\n",
    "    elif 1500 <= price <= 3000:\n",
    "        return 'Mid-range'\n",
    "    else:\n",
    "        return 'Affordable'\n",
    "\n"
   ]
  },
  {
   "cell_type": "code",
   "execution_count": 15,
   "id": "e841a0aa-84a9-4a9c-a9fd-275b6e5783a7",
   "metadata": {},
   "outputs": [],
   "source": [
    "\n",
    "data['market_segment'] = data['price'].apply(categorize_segment)\n",
    "\n",
    "features = ['region', 'type', 'sqfeet', 'beds', 'baths', 'cats_allowed', \n",
    "            'dogs_allowed', 'wheelchair_access', 'electric_vehicle_charge', \n",
    "            'comes_furnished', 'laundry_options', 'parking_options',  'state']\n",
    "target = 'market_segment'  \n",
    "\n",
    "X = data[features]\n",
    "y = data[target]\n",
    "\n",
    "\n",
    "categorical_features = ['region', 'type', 'laundry_options', 'parking_options', 'state']\n",
    "numerical_features = ['sqfeet', 'beds', 'baths', 'cats_allowed', 'dogs_allowed', \n",
    "                     'wheelchair_access', 'electric_vehicle_charge', 'comes_furnished']\n",
    "\n"
   ]
  },
  {
   "cell_type": "code",
   "execution_count": 9,
   "id": "b76fd45f-6e8b-4dbe-a8d4-f270c4d15a3c",
   "metadata": {},
   "outputs": [
    {
     "data": {
      "image/png": "[encoded data removed]",
      "text/plain": [
       "<Figure size 800x600 with 1 Axes>"
      ]
     },
     "metadata": {},
     "output_type": "display_data"
    }
   ],
   "source": [
    "import matplotlib.pyplot as plt\n",
    "\n",
    "# Get counts of each market segment\n",
    "segment_counts = data['market_segment'].value_counts()\n",
    "\n",
    "# Plot bar chart\n",
    "plt.figure(figsize=(8, 6))\n",
    "plt.bar(segment_counts.index, segment_counts.values, color=['#ff9999','#66b3ff','#99ff99'])\n",
    "\n",
    "# Adding title and labels\n",
    "plt.title('Market Segmentation Distribution')\n",
    "plt.xlabel('Market Segment')\n",
    "plt.ylabel('Count of Properties')\n",
    "\n",
    "# Display the plot\n",
    "plt.show()"
   ]
  },
  {
   "cell_type": "code",
   "execution_count": 17,
   "id": "8907be00-1a9f-4f11-8c2d-2213ae771827",
   "metadata": {},
   "outputs": [],
   "source": [
    "from imblearn.over_sampling import SMOTE\n",
    "import numpy as np\n",
    "   \n",
    "  "
   ]
  },
  {
   "cell_type": "code",
   "execution_count": 21,
   "id": "9bf01647-343c-4c6e-b44c-07f3b5e177dc",
   "metadata": {},
   "outputs": [],
   "source": [
    "encoder = OneHotEncoder(handle_unknown='ignore', sparse_output=False)\n",
    "X_cat_encoded = encoder.fit_transform(X[categorical_features])\n",
    "\n",
    "scaler = StandardScaler()\n",
    "X_num_scaled = scaler.fit_transform(X[numerical_features])\n",
    "\n",
    "X_transformed = np.hstack([X_num_scaled, X_cat_encoded])\n",
    "\n"
   ]
  },
  {
   "cell_type": "code",
   "execution_count": 23,
   "id": "4844abee-6da3-4b26-9965-63856daefe6d",
   "metadata": {},
   "outputs": [],
   "source": [
    "smote = SMOTE(random_state=42)\n",
    "X_resampled, y_resampled = smote.fit_resample(X_transformed, y)\n",
    "\n",
    "X_train, X_test, y_train, y_test = train_test_split(X_resampled, y_resampled, test_size=0.2, random_state=42)"
   ]
  },
  {
   "cell_type": "code",
   "execution_count": 29,
   "id": "94db5f9c-f479-46e2-95ff-145799a87db1",
   "metadata": {},
   "outputs": [
    {
     "name": "stdout",
     "output_type": "stream",
     "text": [
      "market_segment\n",
      "Affordable    180910\n",
      "Mid-range     180910\n",
      "Luxury        180910\n",
      "Name: count, dtype: int64\n"
     ]
    },
    {
     "data": {
      "image/png": "[encoded data removed]",
      "text/plain": [
       "<Figure size 800x600 with 1 Axes>"
      ]
     },
     "metadata": {},
     "output_type": "display_data"
    }
   ],
   "source": [
    "import numpy as np\n",
    "import pandas as pd\n",
    "print(pd.Series(y_resampled).value_counts())\n",
    "\n",
    "# Plotting the distribution of market segments\n",
    "plt.figure(figsize=(8, 6))\n",
    "segment_counts = pd.Series(y_resampled).value_counts()\n",
    "plt.bar(segment_counts.index, segment_counts.values, color=['#ff9999', '#66b3ff', '#99ff99'])\n",
    "\n",
    "# Adding title and labels\n",
    "plt.title('Market Segment Distribution After SMOTE')\n",
    "plt.xlabel('Market Segment')\n",
    "plt.ylabel('Count of Properties')\n",
    "plt.xticks(rotation=45)\n",
    "plt.show()"
   ]
  },
  {
   "cell_type": "code",
   "execution_count": 39,
   "id": "6cbcb938-8cc6-46f8-9db4-e424930e88be",
   "metadata": {},
   "outputs": [
    {
     "name": "stdout",
     "output_type": "stream",
     "text": [
      "Training Accuracy: 0.9441\n",
      "Testing Accuracy: 0.9280\n",
      "Training F1 Score: 0.9418\n",
      "Testing F1 Score: 0.9249\n"
     ]
    }
   ],
   "source": [
    "from sklearn.ensemble import RandomForestClassifier\n",
    "from sklearn.model_selection import GridSearchCV, cross_val_score\n",
    "from sklearn.metrics import accuracy_score,f1_score\n",
    "\n",
    "\n",
    "\n",
    "#Random Forest Model\n",
    "Random_classifier = RandomForestClassifier(random_state=42, min_samples_split=5, min_samples_leaf=2)\n",
    "Random_classifier.fit(X_train, y_train)\n",
    "\n",
    "# Predict on training data\n",
    "y_train_pred = Random_classifier.predict(X_train)\n",
    "# Predict on testing data\n",
    "y_test_pred = Random_classifier.predict(X_test)\n",
    "\n",
    "# Calculate accuracies\n",
    "train_accuracy = accuracy_score(y_train, y_train_pred)\n",
    "test_accuracy = accuracy_score(y_test, y_test_pred)\n",
    "\n",
    "# Calculate F1 scores\n",
    "f1_train = f1_score(y_train, y_train_pred, average='weighted')\n",
    "f1_test = f1_score(y_test, y_test_pred, average='weighted')\n",
    "\n",
    "# Print accuracies and F1 scores\n",
    "print(f\"Training Accuracy: {train_accuracy:.4f}\")\n",
    "print(f\"Testing Accuracy: {test_accuracy:.4f}\")\n",
    "print(f\"Training F1 Score: {f1_train:.4f}\")\n",
    "print(f\"Testing F1 Score: {f1_test:.4f}\")\n",
    "\n"
   ]
  },
  {
   "cell_type": "code",
   "execution_count": 22,
   "id": "a829e598-32b0-4fd0-bb26-a3336cee5804",
   "metadata": {},
   "outputs": [
    {
     "name": "stderr",
     "output_type": "stream",
     "text": [
      "/opt/anaconda3/lib/python3.11/site-packages/sklearn/linear_model/_logistic.py:458: ConvergenceWarning: lbfgs failed to converge (status=1):\n",
      "STOP: TOTAL NO. of ITERATIONS REACHED LIMIT.\n",
      "\n",
      "Increase the number of iterations (max_iter) or scale the data as shown in:\n",
      "    https://scikit-learn.org/stable/modules/preprocessing.html\n",
      "Please also refer to the documentation for alternative solver options:\n",
      "    https://scikit-learn.org/stable/modules/linear_model.html#logistic-regression\n",
      "  n_iter_i = _check_optimize_result(\n"
     ]
    },
    {
     "name": "stdout",
     "output_type": "stream",
     "text": [
      "Training Accuracy: 0.8212\n",
      "Testing Accuracy: 0.8175\n",
      "Training F1 Score: 0.8204\n",
      "Testing F1 Score: 0.8167\n"
     ]
    }
   ],
   "source": [
    "#Logistic Regressiont Model\n",
    "\n",
    "LogisticRegression_classifier =  LogisticRegression(max_iter=1000)\n",
    "LogisticRegression_classifier.fit(X_train, y_train)\n",
    "\n",
    "# Predict on training data\n",
    "y_train_pred = LogisticRegression_classifier.predict(X_train)\n",
    "# Predict on testing data\n",
    "y_test_pred = LogisticRegression_classifier.predict(X_test)\n",
    "\n",
    "# Calculate accuracies\n",
    "train_accuracy_LR = accuracy_score(y_train, y_train_pred)\n",
    "test_accuracy_LR = accuracy_score(y_test, y_test_pred)\n",
    "\n",
    "# Calculate F1 scores\n",
    "f1_train_LR = f1_score(y_train, y_train_pred, average='weighted')\n",
    "f1_test_LR = f1_score(y_test, y_test_pred, average='weighted')\n",
    "\n",
    "# Print accuracies and F1 scores\n",
    "print(f\"Training Accuracy: {train_accuracy_LR:.4f}\")\n",
    "print(f\"Testing Accuracy: {test_accuracy_LR:.4f}\")\n",
    "print(f\"Training F1 Score: {f1_train_LR:.4f}\")\n",
    "print(f\"Testing F1 Score: {f1_test_LR:.4f}\")\n"
   ]
  },
  {
   "cell_type": "code",
   "execution_count": 24,
   "id": "33e33314-c9f1-4660-b41f-dd797d37c5b0",
   "metadata": {},
   "outputs": [
    {
     "name": "stdout",
     "output_type": "stream",
     "text": [
      "Training Accuracy: 0.9589\n",
      "Testing Accuracy: 0.9416\n",
      "Training F1 Score: 0.9588\n",
      "Testing F1 Score: 0.9415\n"
     ]
    }
   ],
   "source": [
    "#K Neighbors Classifier Model\n",
    "\n",
    "KnnModel =  KNeighborsClassifier()\n",
    "KnnModel.fit(X_train, y_train)\n",
    "\n",
    "# Predict on training data\n",
    "y_train_pred = KnnModel.predict(X_train)\n",
    "# Predict on testing data\n",
    "y_test_pred = KnnModel.predict(X_test)\n",
    "\n",
    "# Calculate accuracies\n",
    "train_accuracy_kn = accuracy_score(y_train, y_train_pred)\n",
    "test_accuracy_kn = accuracy_score(y_test, y_test_pred)\n",
    "\n",
    "# Calculate F1 scores\n",
    "f1_train_kn = f1_score(y_train, y_train_pred, average='weighted')\n",
    "f1_test_kn = f1_score(y_test, y_test_pred, average='weighted')\n",
    "\n",
    "# Print accuracies and F1 scores\n",
    "print(f\"Training Accuracy: {train_accuracy_kn:.4f}\")\n",
    "print(f\"Testing Accuracy: {test_accuracy_kn:.4f}\")\n",
    "print(f\"Training F1 Score: {f1_train_kn:.4f}\")\n",
    "print(f\"Testing F1 Score: {f1_test_kn:.4f}\")\n"
   ]
  },
  {
   "cell_type": "code",
   "execution_count": 27,
   "id": "7d1886c2-f3fb-41f2-8f84-9da7d6f27b12",
   "metadata": {},
   "outputs": [
    {
     "name": "stdout",
     "output_type": "stream",
     "text": [
      "Training Accuracy: 0.9950\n",
      "Testing Accuracy: 0.9513\n",
      "Training F1 Score (weighted): 0.9950\n",
      "Testing F1 Score (weighted): 0.9513\n"
     ]
    }
   ],
   "source": [
    "from sklearn.metrics import accuracy_score, f1_score, classification_report, confusion_matrix\n",
    "from sklearn.tree import DecisionTreeClassifier\n",
    "\n",
    "\n",
    "\n",
    "Decision_tree = DecisionTreeClassifier(random_state=42, class_weight='balanced')  # You can omit class_weight if using SMOTE\n",
    "Decision_tree.fit(X_train, y_train)\n",
    "\n",
    "\n",
    "y_pred = Decision_tree.predict(X_test)\n",
    "\n",
    "\n",
    "y_train_pred = Decision_tree.predict(X_train)\n",
    "\n",
    "\n",
    "train_accuracy = accuracy_score(y_train, y_train_pred)\n",
    "test_accuracy = accuracy_score(y_test, y_pred)\n",
    "\n",
    "\n",
    "train_f1 = f1_score(y_train, y_train_pred, average='weighted')\n",
    "test_f1 = f1_score(y_test, y_pred, average='weighted')\n",
    "\n",
    "\n",
    "print(f\"Training Accuracy: {train_accuracy:.4f}\")\n",
    "print(f\"Testing Accuracy: {test_accuracy:.4f}\")\n",
    "\n",
    "\n",
    "print(f\"Training F1 Score (weighted): {train_f1:.4f}\")\n",
    "print(f\"Testing F1 Score (weighted): {test_f1:.4f}\")"
   ]
  },
  {
   "cell_type": "code",
   "execution_count": 25,
   "id": "286014df-74b7-4cbf-9b14-857ab847e1e1",
   "metadata": {},
   "outputs": [
    {
     "name": "stdout",
     "output_type": "stream",
     "text": [
      "Training Accuracy: 0.5422\n",
      "Testing Accuracy: 0.5419\n",
      "Training F1 Score: 0.5077\n",
      "Testing F1 Score: 0.5074\n"
     ]
    }
   ],
   "source": [
    "from sklearn.naive_bayes import GaussianNB\n",
    "\n",
    "#Naive Bayes Classifier Model\n",
    "\n",
    "Naive_Bayes =  GaussianNB()\n",
    "Naive_Bayes.fit(X_train, y_train)\n",
    "\n",
    "# Predict on training data\n",
    "y_train_pred = Naive_Bayes.predict(X_train)\n",
    "# Predict on testing data\n",
    "y_test_pred = Naive_Bayes.predict(X_test)\n",
    "\n",
    "# Calculate accuracies\n",
    "train_accuracy_nb = accuracy_score(y_train, y_train_pred)\n",
    "test_accuracy_nb = accuracy_score(y_test, y_test_pred)\n",
    "\n",
    "# Calculate F1 scores\n",
    "f1_train_nb = f1_score(y_train, y_train_pred, average='weighted')\n",
    "f1_test_nb = f1_score(y_test, y_test_pred, average='weighted')\n",
    "\n",
    "# Print accuracies and F1 scores\n",
    "print(f\"Training Accuracy: {train_accuracy_nb:.4f}\")\n",
    "print(f\"Testing Accuracy: {test_accuracy_nb:.4f}\")\n",
    "print(f\"Training F1 Score: {f1_train_nb:.4f}\")\n",
    "print(f\"Testing F1 Score: {f1_test_nb:.4f}\")"
   ]
  },
  {
   "cell_type": "code",
   "execution_count": 30,
   "id": "50502e4e-90c7-4214-a15d-180b17a3aef4",
   "metadata": {},
   "outputs": [
    {
     "data": {
      "image/png": "[encoded data removed]",
      "text/plain": [
       "<Figure size 640x480 with 1 Axes>"
      ]
     },
     "metadata": {},
     "output_type": "display_data"
    }
   ],
   "source": [
    "import matplotlib.pyplot as plt\n",
    "import numpy as np\n",
    "\n",
    "# Model names3\n",
    "model_names = [\n",
    "    \"Random Forest\", \n",
    "    \"Logistic Regression\", \n",
    "    \"KNN\", \n",
    "    \"Decision Tree\", \n",
    "    \"Naive Bayes\"\n",
    "]\n",
    "\n",
    "# Actual scores for each model\n",
    "train_accuracy = [0.9441, 0.8212, 0.8175, 0.9511, 0.8175]  # Train accuracy\n",
    "test_accuracy = [0.8175, 0.8175, 0.9416, 0.9511, 0.5419]   # Test accuracy\n",
    "f1_train = [0.9588, 0.9588, 0.9588, 0.9950, 0.5077]        # Train F1 score\n",
    "f1_test = [0.9249, 0.8167, 0.9415, 0.9511, 0.5074]         # Test F1 score\n",
    "\n",
    "# Set the positions of the bars on the x-axis\n",
    "x = np.arange(len(model_names))\n",
    "width = 0.2  # Width of the bars\n",
    "\n",
    "# Create the bar chart\n",
    "plt.bar(x - width*1.5, train_accuracy, width, label='Train Accuracy', color='b')\n",
    "plt.bar(x - width/2, test_accuracy, width, label='Test Accuracy', color='g')\n",
    "plt.bar(x + width/2, f1_train, width, label='Train F1 Score', color='r')\n",
    "plt.bar(x + width*1.5, f1_test, width, label='Test F1 Score', color='orange')\n",
    "\n",
    "# Adding labels and title\n",
    "plt.xlabel('Models')\n",
    "plt.ylabel('Scores')\n",
    "plt.title('Model Comparison: Accuracy and F1 Scores')\n",
    "plt.xticks(x, model_names)  # Set the x-tick labels\n",
    "plt.legend()  # Show the legend\n",
    "\n",
    "# Show the plot\n",
    "plt.tight_layout()\n",
    "plt.show()\n"
   ]
  },
  {
   "cell_type": "code",
   "execution_count": 29,
   "id": "d7e97015-a121-430f-9167-78904447fb37",
   "metadata": {},
   "outputs": [
    {
     "data": {
      "text/plain": [
       "['encoder.pkl']"
      ]
     },
     "execution_count": 29,
     "metadata": {},
     "output_type": "execute_result"
    }
   ],
   "source": [
    "import joblib\n",
    "\n",
    "joblib.dump(Decision_tree, 'Market_Segment2.pkl')\n",
    "joblib.dump(scaler, 'scaler2.pkl')\n",
    "joblib.dump(encoder, 'encoder.pkl')"
   ]
  },
  {
   "cell_type": "code",
   "execution_count": null,
   "id": "488008be-5374-490a-9807-45ab6f55b95d",
   "metadata": {},
   "outputs": [],
   "source": []
  }
 ],
 "metadata": {
  "kernelspec": {
   "display_name": "Python 3 (ipykernel)",
   "language": "python",
   "name": "python3"
  },
  "language_info": {
   "codemirror_mode": {
    "name": "ipython",
    "version": 3
   },
   "file_extension": ".py",
   "mimetype": "text/x-python",
   "name": "python",
   "nbconvert_exporter": "python",
   "pygments_lexer": "ipython3",
   "version": "3.12.4"
  }
 },
 "nbformat": 4,
 "nbformat_minor": 5
}
